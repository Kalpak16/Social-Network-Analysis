{
  "nbformat": 4,
  "nbformat_minor": 0,
  "metadata": {
    "colab": {
      "provenance": []
    },
    "kernelspec": {
      "name": "python3",
      "display_name": "Python 3"
    },
    "language_info": {
      "name": "python"
    }
  },
  "cells": [
    {
      "cell_type": "markdown",
      "source": [
        "Question 1"
      ],
      "metadata": {
        "id": "cpdtUObJcK4Z"
      }
    },
    {
      "cell_type": "code",
      "execution_count": null,
      "metadata": {
        "id": "7ArK3I06cEkM"
      },
      "outputs": [],
      "source": [
        "import networkx as nx\n",
        "import matplotlib.pyplot as plt\n",
        "\n",
        "G = nx.Graph()\n",
        "edges = [\n",
        "    (1, 2, 5),\n",
        "    (1, 3, 3),\n",
        "    (2, 4, 2),\n",
        "    (2, 5, 4),\n",
        "    (3, 4, 6),\n",
        "    (4, 5, 1),\n",
        "    (1, 5, 2)\n",
        "]\n",
        "G.add_weighted_edges_from(edges)\n",
        "\n",
        "degree_centrality = nx.degree_centrality(G)\n",
        "print(\"Degree Centrality:\", degree_centrality)\n",
        "\n",
        "weighted_degree_centrality = {node: sum([data['weight'] for _, _, data in G.edges(node, data=True)]) for node in G.nodes}\n",
        "print(\"Weighted Degree Centrality:\", weighted_degree_centrality)\n",
        "\n",
        "pos = nx.spring_layout(G)\n",
        "weights = [G[u][v]['weight'] for u, v in G.edges]\n",
        "nx.draw(G, pos, with_labels=True, node_color='lightblue', edge_color='gray', width=weights)\n",
        "plt.title(\"Graph with Weighted Edges\")\n",
        "plt.show()"
      ]
    },
    {
      "cell_type": "markdown",
      "source": [
        "Question 2"
      ],
      "metadata": {
        "id": "V5YR4Ok9cJd0"
      }
    },
    {
      "cell_type": "code",
      "source": [
        "DG = nx.DiGraph()\n",
        "directed_edges = [\n",
        "    (1, 2),\n",
        "    (2, 3),\n",
        "    (3, 4),\n",
        "    (4, 1),\n",
        "    (2, 5),\n",
        "    (5, 1),\n",
        "    (3, 5),\n",
        "    (5, 4)\n",
        "]\n",
        "DG.add_edges_from(directed_edges)\n",
        "\n",
        "in_degrees = dict(DG.in_degree())\n",
        "out_degrees = dict(DG.out_degree())\n",
        "print(\"In-Degree:\", in_degrees)\n",
        "print(\"Out-Degree:\", out_degrees)\n",
        "\n",
        "pos = nx.spring_layout(DG)\n",
        "nx.draw(DG, pos, with_labels=True, node_color='lightgreen', edge_color='blue', arrowsize=20, arrowstyle='-|>')\n",
        "plt.title(\"Directed Graph\")\n",
        "plt.show()"
      ],
      "metadata": {
        "id": "5KEEqxhGckSb"
      },
      "execution_count": null,
      "outputs": []
    },
    {
      "cell_type": "markdown",
      "source": [
        "Question 3"
      ],
      "metadata": {
        "id": "DUCnNAX4cSlS"
      }
    },
    {
      "cell_type": "code",
      "source": [
        "G_multi = nx.Graph()\n",
        "component_1 = [(1, 2), (2, 3), (3, 4), (1, 3), (2, 4)]\n",
        "G_multi.add_edges_from(component_1)\n",
        "\n",
        "component_2 = [(5, 6), (6, 7), (7, 8), (5, 7), (6, 8)]\n",
        "G_multi.add_edges_from(component_2)\n",
        "\n",
        "connected_components = list(nx.connected_components(G_multi))\n",
        "component_sizes = [len(component) for component in connected_components]\n",
        "\n",
        "print(\"Connected Components:\", connected_components)\n",
        "print(\"Size of each component:\", component_sizes)\n",
        "\n",
        "pos = nx.spring_layout(G_multi)\n",
        "nx.draw(G_multi, pos, with_labels=True, node_color='lightcoral', edge_color='black')\n",
        "plt.title(\"Graph with Multiple Components\")\n",
        "plt.show()"
      ],
      "metadata": {
        "id": "KJOasBB2ckq_"
      },
      "execution_count": null,
      "outputs": []
    }
  ]
}